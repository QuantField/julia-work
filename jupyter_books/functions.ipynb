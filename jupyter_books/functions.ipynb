{
 "cells": [
  {
   "cell_type": "code",
   "execution_count": null,
   "metadata": {},
   "outputs": [],
   "source": [
    "function simple(x)\n",
    "    return x^2\n",
    "end\n",
    "println(simple(2))\n",
    "println(simple(2.))"
   ]
  },
  {
   "cell_type": "code",
   "execution_count": null,
   "metadata": {},
   "outputs": [],
   "source": [
    "function mod(x::Float64, y::Float64)\n",
    "    r = sqrt(x^2 + y^2)\n",
    "end\n",
    "\n",
    "mod(2.,3.)"
   ]
  },
  {
   "cell_type": "code",
   "execution_count": 2,
   "metadata": {},
   "outputs": [
    {
     "data": {
      "text/plain": [
       "9.0"
      ]
     },
     "execution_count": 2,
     "metadata": {},
     "output_type": "execute_result"
    }
   ],
   "source": [
    "# another way of defining functions\n",
    "sq(x::Float64) = x^2\n",
    "sq(3.)"
   ]
  },
  {
   "cell_type": "code",
   "execution_count": 8,
   "metadata": {},
   "outputs": [
    {
     "data": {
      "text/plain": [
       "28.0"
      ]
     },
     "execution_count": 8,
     "metadata": {},
     "output_type": "execute_result"
    }
   ],
   "source": [
    "# anonymous\n",
    "func = (x::Float64, y::Float64) -> x^3 + y # also works without defining types (x, y) -> x^3 + y\n",
    "func(3.,1.)"
   ]
  },
  {
   "cell_type": "code",
   "execution_count": null,
   "metadata": {},
   "outputs": [],
   "source": [
    "mod(2,3)"
   ]
  },
  {
   "cell_type": "code",
   "execution_count": null,
   "metadata": {},
   "outputs": [],
   "source": [
    "function mod(x::Number, y::Number)\n",
    "    r = sqrt(x^2 + y^2)\n",
    "end\n",
    "\n",
    "mod(2,3)"
   ]
  },
  {
   "cell_type": "code",
   "execution_count": 12,
   "metadata": {},
   "outputs": [
    {
     "ename": "UndefVarError",
     "evalue": "UndefVarError: T not defined",
     "output_type": "error",
     "traceback": [
      "UndefVarError: T not defined",
      "",
      "Stacktrace:",
      " [1] top-level scope at In[12]:1"
     ]
    }
   ],
   "source": [
    "function quadratic(x::Array{T,1})\n",
    "    x.^2\n",
    "end"
   ]
  },
  {
   "cell_type": "code",
   "execution_count": 6,
   "metadata": {},
   "outputs": [],
   "source": [
    "# defining a constructor\n",
    "struct Point\n",
    "    \n",
    "    x::Float64 \n",
    "    y::Float64  \n",
    "        \n",
    "    Point(x::Float64, y::Float64) = new(x,y)   \n",
    "    \n",
    "end   \n",
    "\n",
    "\n",
    "# another way of defining a constructor, note mutable keyword\n",
    "mutable struct Point2\n",
    "    \n",
    "    x::Float64 \n",
    "    y::Float64  \n",
    "        \n",
    "    function Point2(x::Float64, y::Float64) \n",
    "      self = new()\n",
    "      self.x = x\n",
    "      self.y = y\n",
    "      self\n",
    "    end \n",
    "    \n",
    "end        \n",
    "\n",
    "# another one\n",
    "struct Point3\n",
    "    x::Float64 \n",
    "    y::Float64   \n",
    "    \n",
    "    function Point3(x::Float64, y::Float64)\n",
    "        new(x,y)\n",
    "    end\n",
    "end   \n",
    "\n",
    "        "
   ]
  },
  {
   "cell_type": "code",
   "execution_count": 2,
   "metadata": {},
   "outputs": [
    {
     "data": {
      "text/plain": [
       "Point(1.0, 2.0)"
      ]
     },
     "execution_count": 2,
     "metadata": {},
     "output_type": "execute_result"
    }
   ],
   "source": [
    "p1 = Point(1.,2.)"
   ]
  },
  {
   "cell_type": "code",
   "execution_count": 3,
   "metadata": {},
   "outputs": [
    {
     "data": {
      "text/plain": [
       "Point2(3.0, 4.0)"
      ]
     },
     "execution_count": 3,
     "metadata": {},
     "output_type": "execute_result"
    }
   ],
   "source": [
    "p2 = Point2(3.,4.)"
   ]
  },
  {
   "cell_type": "code",
   "execution_count": 7,
   "metadata": {},
   "outputs": [
    {
     "data": {
      "text/plain": [
       "Point3(3.0, 4.0)"
      ]
     },
     "execution_count": 7,
     "metadata": {},
     "output_type": "execute_result"
    }
   ],
   "source": [
    "p3 = Point3(3.,4.)"
   ]
  },
  {
   "cell_type": "code",
   "execution_count": 5,
   "metadata": {},
   "outputs": [
    {
     "ename": "ErrorException",
     "evalue": "type Float64 has no field x",
     "output_type": "error",
     "traceback": [
      "type Float64 has no field x",
      "",
      "Stacktrace:",
      " [1] getproperty(::Float64, ::Symbol) at ./Base.jl:20",
      " [2] top-level scope at In[5]:1"
     ]
    }
   ],
   "source": [
    "p3.x"
   ]
  },
  {
   "cell_type": "code",
   "execution_count": 4,
   "metadata": {},
   "outputs": [
    {
     "ename": "ErrorException",
     "evalue": "setfield! immutable struct of type Point cannot be changed",
     "output_type": "error",
     "traceback": [
      "setfield! immutable struct of type Point cannot be changed",
      "",
      "Stacktrace:",
      " [1] setproperty!(::Point, ::Symbol, ::Float64) at ./Base.jl:21",
      " [2] top-level scope at In[4]:1"
     ]
    }
   ],
   "source": [
    "p1.x = 3. # because default is immutable"
   ]
  },
  {
   "cell_type": "code",
   "execution_count": 5,
   "metadata": {},
   "outputs": [
    {
     "data": {
      "text/plain": [
       "calculate_radius (generic function with 1 method)"
      ]
     },
     "execution_count": 5,
     "metadata": {},
     "output_type": "execute_result"
    }
   ],
   "source": [
    "mutable struct Point\n",
    "    \n",
    "    x::Float64 \n",
    "    y::Float64  \n",
    "    get_radius::Function\n",
    "        \n",
    "    function Point(x, y)        \n",
    "        self = new()\n",
    "        self.x = x\n",
    "        self.y = y\n",
    "        \n",
    "        self.get_radius = function() \n",
    "                calculate_radius(self)\n",
    "        end\n",
    "        \n",
    "        self\n",
    "    end    \n",
    "    \n",
    "end        \n",
    "\n",
    "function calculate_radius(p::Point)\n",
    "    sqrt(p.x^2 + p.y^2)\n",
    "end\n",
    "        "
   ]
  },
  {
   "cell_type": "code",
   "execution_count": 6,
   "metadata": {},
   "outputs": [
    {
     "data": {
      "text/plain": [
       "5.0"
      ]
     },
     "execution_count": 6,
     "metadata": {},
     "output_type": "execute_result"
    }
   ],
   "source": [
    "p1 = Point(3,4)\n",
    "p1.get_radius()"
   ]
  }
 ],
 "metadata": {
  "kernelspec": {
   "display_name": "Julia 1.3.1",
   "language": "julia",
   "name": "julia-1.3"
  },
  "language_info": {
   "file_extension": ".jl",
   "mimetype": "application/julia",
   "name": "julia",
   "version": "1.3.1"
  }
 },
 "nbformat": 4,
 "nbformat_minor": 2
}
